{
 "cells": [
  {
   "cell_type": "code",
   "execution_count": 9,
   "metadata": {},
   "outputs": [
    {
     "name": "stdout",
     "output_type": "stream",
     "text": [
      "Clases ordenadas: ('agua', 'arroz', 'cominos', 'gas', 'pollo', 'verduras')\n",
      "Frecuencias ordenadas: (3, 2, 1, 3, 3, 3)\n",
      "Frecuencias relativas (%): [20.0, 13.333333333333334, 6.666666666666667, 20.0, 20.0, 20.0]\n",
      "Frecuencias acumuladas (%): [20.0, 33.333333333333336, 40.0, 60.0, 80.0, 100.0]\n"
     ]
    }
   ],
   "source": [
    "\n",
    "#1\n",
    "import Team2.Hernandez as generar_clase_y_FABS\n",
    "import Team2.Hernandez as clases_sorted\n",
    "\n",
    "import Team2.Mendoza as frecuencia_relativa\n",
    "import Team2.Mendoza as frecuencia_acumulada\n",
    "\n",
    "\n",
    "# Ejemplo de uso\n",
    "arreglo = ['agua', 'arroz', 'pollo', 'verduras', 'agua', 'verduras', 'arroz', 'pollo', 'gas', 'pollo', 'gas', 'cominos', 'verduras', 'agua', 'gas']\n",
    "\n",
    "# Obtener clases y frecuencias\n",
    "clases, frecuencias = generar_clase_y_FABS.generar_clase_y_FABS(arreglo)\n",
    "\n",
    "# Ordenar y mostrar clases y frecuencias ordenadas\n",
    "clases_ordenadas, frecuencias_ordenadas = clases_sorted.clases_sorted(clases, frecuencias)\n",
    "print(\"Clases ordenadas:\", clases_ordenadas)\n",
    "print(\"Frecuencias ordenadas:\", frecuencias_ordenadas)\n",
    "\n",
    "\n",
    "\n",
    "# Calcular y mostrar frecuencias relativas\n",
    "frecuencias_relativas = frecuencia_relativa.frecuencia_relativa(frecuencias_ordenadas)\n",
    "print(\"Frecuencias relativas (%):\", frecuencias_relativas)\n",
    "\n",
    "# Calcular y mostrar frecuencias acumuladas\n",
    "frecuencias_acumuladas = frecuencia_acumulada.frecuencia_acumulada(frecuencias_relativas)\n",
    "print(\"Frecuencias acumuladas (%):\", frecuencias_acumuladas)\n",
    "\n",
    "\n",
    "#\n"
   ]
  },
  {
   "cell_type": "code",
   "execution_count": 11,
   "metadata": {},
   "outputs": [
    {
     "name": "stdout",
     "output_type": "stream",
     "text": [
      "Clases ordenadas:                ('agua', 'arroz', 'cominos', 'gas', 'pollo', 'verduras')\n",
      "Frecuencias Absolutas ordenadas: (3, 2, 1, 3, 3, 3)\n",
      "Clases     Fa       Fr       F acumulada  Lim inferior Lim superior\n",
      "------     ---      ---      -----------  ------------ ------------\n",
      " agua      3        20.0     20.0         1            3           \n",
      " arroz     2        13.333333333333334 33.333333333333336 1            3           \n",
      " cominos   1        6.666666666666667 40.0         1            3           \n",
      " gas       3        20.0     60.0         1            3           \n",
      " pollo     3        20.0     80.0         1            3           \n",
      " verduras  3        20.0     100.0        1            3           \n"
     ]
    }
   ],
   "source": [
    "import Team2.Aldana as Aldana\n",
    "import Team2.Maldonado as Maldonado\n",
    "\n",
    "arreglo = ['agua', 'arroz', 'pollo', 'verduras', 'agua', 'verduras', 'arroz', 'pollo', 'gas', 'pollo', 'gas', 'cominos', 'verduras', 'agua', 'gas']\n",
    "\n",
    "# Obtener clases y frecuencias\n",
    "clases, frecuencias = Aldana.generar_clase_y_FABS(arreglo)\n",
    "\n",
    "# Ordenar y mostrar clases y frecuencias ordenadas\n",
    "clases_ordenadas, frecuencias_ordenadas = Maldonado.clases_sorted(clases, frecuencias)\n",
    "print(\"Clases ordenadas:               \", clases_ordenadas)\n",
    "print(\"Frecuencias Absolutas ordenadas:\", frecuencias_ordenadas)\n",
    "lower_limit = min(frecuencias)\n",
    "upper_limit = max(frecuencias)\n",
    "import Team2.Mera as Karol\n",
    "Karol.imprimir_tabla(clases_ordenadas, frecuencias_ordenadas, frecuencias_relativas, frecuencias_acumuladas, lower_limit, upper_limit)\n",
    "\n",
    "\n",
    "\n"
   ]
  },
  {
   "cell_type": "code",
   "execution_count": 12,
   "metadata": {},
   "outputs": [
    {
     "name": "stdout",
     "output_type": "stream",
     "text": [
      "Clases     Fa       Fr       F acumulada  Lim inferior Lim superior\n",
      "------     ---      ---      -----------  ------------ ------------\n",
      " agua      3        20.0     20.0         1            3           \n",
      " arroz     2        13.333333333333334 33.333333333333336 1            3           \n",
      " cominos   1        6.666666666666667 40.0         1            3           \n",
      " gas       3        20.0     60.0         1            3           \n",
      " pollo     3        20.0     80.0         1            3           \n",
      " verduras  3        20.0     100.0        1            3           \n"
     ]
    }
   ],
   "source": [
    "lower_limit = min(frecuencias)\n",
    "upper_limit = max(frecuencias)\n",
    "import Team2.Mera as Karol\n",
    "Karol.imprimir_tabla(clases_ordenadas, frecuencias_ordenadas, frecuencias_relativas, frecuencias_acumuladas, lower_limit, upper_limit)\n"
   ]
  },
  {
   "cell_type": "code",
   "execution_count": 1,
   "metadata": {},
   "outputs": [
    {
     "ename": "ModuleNotFoundError",
     "evalue": "No module named 'matplotlib'",
     "output_type": "error",
     "traceback": [
      "\u001b[1;31m---------------------------------------------------------------------------\u001b[0m",
      "\u001b[1;31mModuleNotFoundError\u001b[0m                       Traceback (most recent call last)",
      "Cell \u001b[1;32mIn[1], line 1\u001b[0m\n\u001b[1;32m----> 1\u001b[0m \u001b[38;5;28;01mimport\u001b[39;00m \u001b[38;5;21;01mTeam2\u001b[39;00m\u001b[38;5;21;01m.\u001b[39;00m\u001b[38;5;21;01mMartínez\u001b[39;00m \u001b[38;5;28;01mas\u001b[39;00m \u001b[38;5;21;01mcrear_histograma\u001b[39;00m\n\u001b[0;32m      2\u001b[0m \u001b[38;5;66;03m# Crear el histograma\u001b[39;00m\n\u001b[0;32m      3\u001b[0m crear_histograma\u001b[38;5;241m.\u001b[39mcrear_histograma(clases_ordenadas, frecuencias_ordenadas)\n",
      "File \u001b[1;32mc:\\Users\\Frey\\Desktop\\ternurines2\\TeamTernurines\\Team2\\Martínez.py:1\u001b[0m\n\u001b[1;32m----> 1\u001b[0m \u001b[38;5;28;01mimport\u001b[39;00m \u001b[38;5;21;01mmatplotlib\u001b[39;00m\u001b[38;5;21;01m.\u001b[39;00m\u001b[38;5;21;01mpyplot\u001b[39;00m \u001b[38;5;28;01mas\u001b[39;00m \u001b[38;5;21;01mplt\u001b[39;00m\n\u001b[0;32m      2\u001b[0m \u001b[38;5;66;03m# Función para crear el histograma\u001b[39;00m\n\u001b[0;32m      3\u001b[0m \u001b[38;5;28;01mdef\u001b[39;00m \u001b[38;5;21mcrear_histograma\u001b[39m(marcas_clase, frecuencias):\n",
      "\u001b[1;31mModuleNotFoundError\u001b[0m: No module named 'matplotlib'"
     ]
    }
   ],
   "source": [
    "import Team2.Martínez as crear_histograma\n",
    "# Crear el histograma\n",
    "crear_histograma.crear_histograma(clases_ordenadas, frecuencias_ordenadas)"
   ]
  },
  {
   "cell_type": "code",
   "execution_count": null,
   "metadata": {},
   "outputs": [],
   "source": [
    "import Team2.Martínez as crear_diagrama_barras\n",
    "marcas_clase = list(range(1, len(clases_ordenadas) + 1))\n",
    "marcas_texto = clases_ordenadas\n",
    "crear_diagrama_barras.crear_diagrama_barras(marcas_clase, frecuencias_ordenadas, marcas_texto)"
   ]
  },
  {
   "cell_type": "code",
   "execution_count": null,
   "metadata": {},
   "outputs": [],
   "source": [
    "import Team2.Martínez as crear_poligono_frecuencias\n",
    "# Crear el polígono de frecuencias\n",
    "crear_poligono_frecuencias.crear_poligono_frecuencias(marcas_clase, frecuencias_ordenadas, clases_ordenadas)"
   ]
  },
  {
   "cell_type": "code",
   "execution_count": null,
   "metadata": {},
   "outputs": [],
   "source": [
    "import Team2.Martínez as crear_grafico_pastel\n",
    "#Grafica de pay\n",
    "# Uso de la función\n",
    "datos = frecuencias_ordenadas\n",
    "marcas_texto = clases_ordenadas\n",
    "crear_grafico_pastel.crear_grafico_pastel(datos, marcas_texto)"
   ]
  },
  {
   "cell_type": "code",
   "execution_count": null,
   "metadata": {},
   "outputs": [],
   "source": [
    "import Team2.ojiva as crear_ojiva\n",
    "crear_ojiva(marcas_clase, frecuencias, marcas_texto)"
   ]
  }
 ],
 "metadata": {
  "kernelspec": {
   "display_name": "Python 3",
   "language": "python",
   "name": "python3"
  },
  "language_info": {
   "codemirror_mode": {
    "name": "ipython",
    "version": 3
   },
   "file_extension": ".py",
   "mimetype": "text/x-python",
   "name": "python",
   "nbconvert_exporter": "python",
   "pygments_lexer": "ipython3",
   "version": "3.12.4"
  }
 },
 "nbformat": 4,
 "nbformat_minor": 2
}
