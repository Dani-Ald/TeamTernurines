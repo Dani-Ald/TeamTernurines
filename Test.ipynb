{
 "cells": [
  {
   "cell_type": "markdown",
   "metadata": {},
   "source": [
    "### Prueba de importacion ###"
   ]
  },
  {
   "cell_type": "code",
   "execution_count": 1,
   "metadata": {},
   "outputs": [],
   "source": [
    "import CodeT.example as ex"
   ]
  },
  {
   "cell_type": "code",
   "execution_count": 3,
   "metadata": {},
   "outputs": [
    {
     "name": "stdout",
     "output_type": "stream",
     "text": [
      "6\n"
     ]
    }
   ],
   "source": [
    "#Uso\n",
    "n01, n02 = 3, 3\n",
    "sumator = ex.suma(n01, n02)\n",
    "print(sumator)"
   ]
  },
  {
   "cell_type": "markdown",
   "metadata": {},
   "source": [
    "### Importaciones de funciones ###"
   ]
  },
  {
   "cell_type": "code",
   "execution_count": 32,
   "metadata": {},
   "outputs": [
    {
     "name": "stdout",
     "output_type": "stream",
     "text": [
      "Clases     Fa       Fr       F acumulada \n",
      "------     ---      ---      ----------- \n",
      "Clase -2   4        20.0     20.0        \n",
      "Clase 2.111 2        10.0     30.0        \n",
      "Clase 5    4        20.0     50.0        \n",
      "Clase 6    2        10.0     60.0        \n",
      "Clase 7    4        20.0     80.0        \n",
      "Clase 11   2        10.0     90.0        \n",
      "Clase 20   2        10.0     100.0       \n"
     ]
    }
   ],
   "source": [
    "#                                               import nombreCarpeta.NombreArchivo as alias\n",
    "import CodeT.daniel as de\n",
    "# 1 \n",
    "import CodeT.karol as frec_abs\n",
    "# 2\n",
    "import CodeT.Irving as ordenar_asc\n",
    "# 3\n",
    "import CodeT.Marco as sort_clases_fa\n",
    "# 4\n",
    "import CodeT.freyra as frecuencia_relativa\n",
    "# 5\n",
    "import CodeT.Brayan as frecuencia_acumulada\n",
    "\n",
    "# Datos de entrada\n",
    "datos_entrada = [-2, -2, -2, -2, 2.111, 2.111, 5, 5, 5, 5, 6, 6, 7, 7, 7, 7, 11, 11, 20, 20]\n",
    "\n",
    "# Calcular clases y frecuencia absoluta\n",
    "clases, fa_ab = frec_abs.frec_abs(datos_entrada)\n",
    "\n",
    "# Ordenar clases ascendente\n",
    "clases_orden = ordenar_asc.ordenar_asc(clases)\n",
    "\n",
    "# Ordenar clases y frecuencia absoluta según clases_orden\n",
    "fa_sorted = sort_clases_fa.sort_clases_fa(clases_orden, clases, fa_ab)\n",
    "\n",
    "# Calcular frecuencia relativa\n",
    "frecuencia_rel = frecuencia_relativa.frecuencia_relativa(fa_sorted)\n",
    "\n",
    "# Calcular frecuencia acumulada\n",
    "frecuencia_rel_acum = frecuencia_acumulada.frecuencia_acumulada(frecuencia_rel)\n",
    "\n",
    "\n",
    "# Llamar a la función imprimir_tabla para imprimir la tabla\n",
    "imprimir_tabla(clases_orden, fa_sorted, frecuencia_rel, frecuencia_rel_acum)\n",
    "\n",
    "#"
   ]
  },
  {
   "cell_type": "code",
   "execution_count": 29,
   "metadata": {},
   "outputs": [
    {
     "name": "stdout",
     "output_type": "stream",
     "text": [
      "Clases     Fa       Fr       F acumulada \n",
      "------     ---      ---      ----------- \n",
      "Clase -2   4        20.0     20.0        \n",
      "Clase 2.111 2        10.0     30.0        \n",
      "Clase 5    4        20.0     50.0        \n",
      "Clase 6    2        10.0     60.0        \n",
      "Clase 7    4        20.0     80.0        \n",
      "Clase 11   2        10.0     90.0        \n",
      "Clase 20   2        10.0     100.0       \n"
     ]
    }
   ],
   "source": [
    "# Importar las funciones necesarias desde sus respectivos módulos\n",
    "import CodeT.daniel as de\n",
    "import CodeT.karol as frec_abs\n",
    "import CodeT.Irving as ordenar_asc\n",
    "import CodeT.Marco as sort_clases_fa\n",
    "import CodeT.freyra as frecuencia_relativa\n",
    "import CodeT.Brayan as frecuencia_acumulada\n",
    "from CodeT.daniel import imprimir_tabla  # Importar la función imprimir_tabla desde tu archivo mis_funciones.py\n",
    "\n",
    "# Datos de entrada\n",
    "datos_entrada = [-2, -2, -2, -2, 2.111, 2.111, 5, 5, 5, 5, 6, 6, 7, 7, 7, 7, 11, 11, 20, 20]\n",
    "\n",
    "# Calcular clases y frecuencia absoluta\n",
    "clases, fa_ab = frec_abs.frec_abs(datos_entrada)\n",
    "\n",
    "# Ordenar clases ascendente\n",
    "clases_orden = ordenar_asc.ordenar_asc(clases)\n",
    "\n",
    "# Ordenar clases y frecuencia absoluta según clases_orden\n",
    "fa_sorted = sort_clases_fa.sort_clases_fa(clases_orden, clases, fa_ab)\n",
    "\n",
    "# Calcular frecuencia relativa\n",
    "frecuencia_rel = frecuencia_relativa.frecuencia_relativa(fa_sorted)\n",
    "\n",
    "# Calcular frecuencia acumulada\n",
    "frecuencia_rel_acum = frecuencia_acumulada.frecuencia_acumulada(frecuencia_rel)\n",
    "\n",
    "# Llamar a la función imprimir_tabla para imprimir la tabla\n",
    "imprimir_tabla(clases_orden, fa_sorted, frecuencia_rel, frecuencia_rel_acum)\n",
    "\n"
   ]
  },
  {
   "cell_type": "code",
   "execution_count": 56,
   "metadata": {},
   "outputs": [
    {
     "name": "stdout",
     "output_type": "stream",
     "text": [
      "clases       Fa                Fr                F acumulada      \n",
      "------       -----------       -----------       -----------\n",
      "Clase -2 4                20.0                20.0\n",
      "Clase 2.111 2                10.0                30.0\n",
      "Clase 5  4                20.0                50.0\n",
      "Clase 6  2                10.0                60.0\n",
      "Clase 7  4                20.0                80.0\n",
      "Clase 11 2                10.0                90.0\n",
      "Clase 20 2                10.0                100.0\n"
     ]
    }
   ],
   "source": [
    "# Suponiendo que ya tienes las variables fa_sorted, frecuencia_rel y frecuencia_rel_acum calculadas\n",
    "\n",
    "# Imprimir encabezados\n",
    "print('clases','     ','Fa', '              ','Fr', '              ','F acumulada', '     ')\n",
    "print('------','     ','-----------','     ','-----------','     ','-----------')\n",
    "\n",
    "# Iterar sobre las clases y sus correspondientes datos\n",
    "for clase in range(len(clases_orden)):\n",
    "    if clase > 1:\n",
    "        print(f'Clase {clases_orden[clase]}'.ljust(8), fa_sorted[clase], '              ', frecuencia_rel[clase], '              ', frecuencia_rel_acum[clase])\n",
    "    else:\n",
    "        print(f'Clase {clases_orden[clase]}'.ljust(8), fa_sorted[clase], '              ', frecuencia_rel[clase], '              ', frecuencia_rel_acum[clase])\n"
   ]
  },
  {
   "cell_type": "markdown",
   "metadata": {},
   "source": [
    "<table>\n",
    "  <tr>\n",
    "    <th>clases</th>\n",
    "    <th>Fa</th>\n",
    "    <th>Fr</th>\n",
    "    <th>F acumulada</th>\n",
    "  </tr>\n",
    "  <tr>\n",
    "    <td>Clase 1</td>\n",
    "    <td>6</td>\n",
    "    <td>17.647058823529413</td>\n",
    "    <td>17.647058823529413</td>\n",
    "  </tr>\n",
    "  <tr>\n",
    "    <td>Clase 2</td>\n",
    "    <td>2</td>\n",
    "    <td>5.88235294117647</td>\n",
    "    <td>23.529411764705884</td>\n",
    "  </tr>\n",
    "  <tr>\n",
    "    <td>Clase 3</td>\n",
    "    <td>11</td>\n",
    "    <td>32.35294117647059</td>\n",
    "    <td>55.88235294117647</td>\n",
    "  </tr>\n",
    "  <tr>\n",
    "    <td>Clase 4</td>\n",
    "    <td>15</td>\n",
    "    <td>44.11764705882353</td>\n",
    "    <td>100.0</td>\n",
    "  </tr>\n",
    "</table>\n"
   ]
  }
 ],
 "metadata": {
  "kernelspec": {
   "display_name": "Python 3",
   "language": "python",
   "name": "python3"
  },
  "language_info": {
   "codemirror_mode": {
    "name": "ipython",
    "version": 3
   },
   "file_extension": ".py",
   "mimetype": "text/x-python",
   "name": "python",
   "nbconvert_exporter": "python",
   "pygments_lexer": "ipython3",
   "version": "3.12.4"
  }
 },
 "nbformat": 4,
 "nbformat_minor": 2
}
