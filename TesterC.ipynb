{
 "cells": [
  {
   "cell_type": "code",
   "execution_count": null,
   "metadata": {},
   "outputs": [],
   "source": [
    "\n",
    "#IMPORTACIONES\n",
    "\n",
    "# Ejemplo de uso con cadenas de caracteres\n",
    "datos = [\"perro\", \"gato\", \"elefante\", \"ratón\", \"tigre\", \"águila\", \"oveja\", \"vaca\", \"oso\"]\n",
    "\n",
    "# Paso 1: Ordenar los datos por longitud de cadena\n",
    "datos_ordenados = ordenar_datos(datos)\n",
    "\n",
    "# Paso 2: Calcular el rango (basado en la longitud de las cadenas)\n",
    "rango, valor_min, valor_max = calcular_rango(datos_ordenados)\n",
    "\n",
    "# Paso 3: Determinar el número de clases\n",
    "n = len(datos_ordenados)\n",
    "num_clases = calcular_numero_clases(n)\n",
    "\n",
    "# Paso 4: Calcular el ancho de clase\n",
    "ancho_clase = calcular_ancho_clase(rango, num_clases)\n",
    "\n",
    "# Paso 5: Calcular límites de clase (convertir longitud de cadenas en rangos numéricos)\n",
    "limites_inferiores, limites_superiores = calcular_limites_clase(valor_min, ancho_clase, num_clases)\n",
    "limites_superiores[-1] = len(valor_max)  # Asegurar que el último límite superior sea la longitud máxima\n",
    "\n",
    "# Paso 6: Calcular marcas de clase (promedio de los límites)\n",
    "marcas_clase = calcular_marcas_clase(limites_inferiores, limites_superiores)\n",
    "\n",
    "# Paso 7: Calcular frecuencias absolutas\n",
    "frec_absoluta = frecuencia_absoluta(datos_ordenados, limites_inferiores, limites_superiores)\n",
    "\n",
    "# Paso 8: Calcular frecuencias relativas\n",
    "frec_relativa = frecuencia_relativa(frec_absoluta, n)\n",
    "\n",
    "# Paso 9: Calcular frecuencias acumuladas\n",
    "frec_acumulada = frecuencia_acumulada(frec_absoluta)\n",
    "\n",
    "# Imprimir la tabla\n",
    "imprimir_tabla(datos_ordenados, limites_inferiores, limites_superiores, marcas_clase, frec_absoluta, frec_relativa, frec_acumulada)\n",
    "\n",
    "# Crear los gráficos\n",
    "crear_histograma(marcas_clase, frec_absoluta)\n",
    "crear_diagrama_barras(marcas_clase, frec_absoluta)\n",
    "crear_poligono_frecuencias(marcas_clase, frec_absoluta)\n",
    "crear_grafico_pastel(frec_absoluta, marcas_clase)\n",
    "crear_ojiva(marcas_clase, frec_absoluta)"
   ]
  }
 ],
 "metadata": {
  "language_info": {
   "name": "python"
  }
 },
 "nbformat": 4,
 "nbformat_minor": 2
}
