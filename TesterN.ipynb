{
 "cells": [
  {
   "cell_type": "code",
   "execution_count": 1,
   "metadata": {},
   "outputs": [
    {
     "ename": "TypeError",
     "evalue": "'module' object is not callable",
     "output_type": "error",
     "traceback": [
      "\u001b[1;31m---------------------------------------------------------------------------\u001b[0m",
      "\u001b[1;31mTypeError\u001b[0m                                 Traceback (most recent call last)",
      "Cell \u001b[1;32mIn[1], line 23\u001b[0m\n\u001b[0;32m     20\u001b[0m datos \u001b[38;5;241m=\u001b[39m [\u001b[38;5;241m-\u001b[39m\u001b[38;5;241m2\u001b[39m, \u001b[38;5;241m-\u001b[39m\u001b[38;5;241m2\u001b[39m, \u001b[38;5;241m-\u001b[39m\u001b[38;5;241m2\u001b[39m, \u001b[38;5;241m-\u001b[39m\u001b[38;5;241m2\u001b[39m, \u001b[38;5;241m2.111\u001b[39m, \u001b[38;5;241m2.111\u001b[39m, \u001b[38;5;241m5\u001b[39m, \u001b[38;5;241m5\u001b[39m, \u001b[38;5;241m5\u001b[39m, \u001b[38;5;241m5\u001b[39m, \u001b[38;5;241m6\u001b[39m, \u001b[38;5;241m6\u001b[39m, \u001b[38;5;241m7\u001b[39m, \u001b[38;5;241m7\u001b[39m, \u001b[38;5;241m7\u001b[39m, \u001b[38;5;241m7\u001b[39m, \u001b[38;5;241m11\u001b[39m, \u001b[38;5;241m11\u001b[39m, \u001b[38;5;241m20\u001b[39m, \u001b[38;5;241m20\u001b[39m]\n\u001b[0;32m     22\u001b[0m \u001b[38;5;66;03m# Paso 1: Ordenar los datos\u001b[39;00m\n\u001b[1;32m---> 23\u001b[0m datos_ordenados \u001b[38;5;241m=\u001b[39m \u001b[43mordenar_datos\u001b[49m\u001b[43m(\u001b[49m\u001b[43mdatos\u001b[49m\u001b[43m)\u001b[49m\n\u001b[0;32m     25\u001b[0m \u001b[38;5;66;03m# Paso 2: Calcular el rango\u001b[39;00m\n\u001b[0;32m     26\u001b[0m rango, valor_min, valor_max \u001b[38;5;241m=\u001b[39m calcular_rango(datos_ordenados)\n",
      "\u001b[1;31mTypeError\u001b[0m: 'module' object is not callable"
     ]
    }
   ],
   "source": [
    "# IMPORTACIONES\n",
    "import Numeros.absoluta as frecuencia_absoluta\n",
    "import Numeros.calculos as calcular_rango\n",
    "import Numeros.calculos as calcular_numero_clases\n",
    "import Numeros.calculos as calcular_ancho_clase\n",
    "import Numeros.calculos as calcular_limites_clase\n",
    "import Numeros.calculos as calcular_marcas_clase\n",
    "import Numeros.frecuencias as frecuencia_relativa\n",
    "import Numeros.frecuencias as frecuencia_acumulada\n",
    "import Numeros.graficas as crear_histograma\n",
    "import Numeros.graficas as crear_diagrama_barras\n",
    "import Numeros.graficas as crear_poligono_frecuencias\n",
    "import Numeros.graficas as crear_grafico_pastel\n",
    "import Numeros.graficas as crear_ojiva\n",
    "import Numeros.ordenar as ordenar_datos\n",
    "import Numeros.tabla as imprimir_tabla\n",
    "\n",
    "\n",
    "# Ejemplo de uso:\n",
    "datos = [-2, -2, -2, -2, 2.111, 2.111, 5, 5, 5, 5, 6, 6, 7, 7, 7, 7, 11, 11, 20, 20]\n",
    "\n",
    "# Paso 1: Ordenar los datos\n",
    "datos_ordenados = ordenar_datos(datos)\n",
    "\n",
    "# Paso 2: Calcular el rango\n",
    "rango, valor_min, valor_max = calcular_rango(datos_ordenados)\n",
    "\n",
    "# Paso 3: Determinar el número de clases\n",
    "n = len(datos_ordenados)\n",
    "num_clases = calcular_numero_clases(n)\n",
    "\n",
    "# Paso 4: Calcular el ancho de clase\n",
    "ancho_clase = calcular_ancho_clase(rango, num_clases)\n",
    "\n",
    "# Paso 5: Calcular límites de clase\n",
    "limites_inferiores, limites_superiores = calcular_limites_clase(valor_min, ancho_clase, num_clases)\n",
    "limites_superiores[-1] = valor_max  # Asegurar que el último límite superior sea el máximo valor\n",
    "\n",
    "# Paso 6: Calcular marcas de clase\n",
    "marcas_clase = calcular_marcas_clase(limites_inferiores, limites_superiores)\n",
    "\n",
    "# Paso 7: Calcular frecuencias absolutas\n",
    "frec_absoluta = frecuencia_absoluta(datos_ordenados, limites_inferiores, limites_superiores)\n",
    "\n",
    "# Paso 8: Calcular frecuencias relativas\n",
    "frec_relativa = frecuencia_relativa(frec_absoluta, n)\n",
    "\n",
    "# Paso 9: Calcular frecuencias acumuladas\n",
    "frec_acumulada = frecuencia_acumulada(frec_absoluta)\n",
    "\n",
    "# Imprimir la tabla\n",
    "imprimir_tabla(datos_ordenados, limites_inferiores, limites_superiores, marcas_clase, frec_absoluta, frec_relativa, frec_acumulada)\n",
    "\n",
    "# Crear los gráficos\n",
    "crear_histograma(marcas_clase, frec_absoluta)\n",
    "crear_diagrama_barras(marcas_clase, frec_absoluta)\n",
    "crear_poligono_frecuencias(marcas_clase, frec_absoluta)\n",
    "crear_grafico_pastel(frec_absoluta, marcas_clase)\n",
    "crear_ojiva(marcas_clase, frec_absoluta)\n"
   ]
  }
 ],
 "metadata": {
  "kernelspec": {
   "display_name": "Python 3",
   "language": "python",
   "name": "python3"
  },
  "language_info": {
   "codemirror_mode": {
    "name": "ipython",
    "version": 3
   },
   "file_extension": ".py",
   "mimetype": "text/x-python",
   "name": "python",
   "nbconvert_exporter": "python",
   "pygments_lexer": "ipython3",
   "version": "3.12.4"
  }
 },
 "nbformat": 4,
 "nbformat_minor": 2
}
